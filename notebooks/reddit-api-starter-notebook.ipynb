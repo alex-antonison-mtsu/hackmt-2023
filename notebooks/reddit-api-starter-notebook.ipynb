{
 "cells": [
  {
   "attachments": {},
   "cell_type": "markdown",
   "metadata": {},
   "source": [
    "## Getting Started\n",
    "\n",
    "Before being able to run this notebook, you will need to set up an `.env` file in your root directory. You will do this by making a copy of [.env_template](../.env_template) and renaming it to `.env` and making sure it is in the root directory of the project. You will need to reach out to a team organizer that can provide help with getting the `reddit_client_id`, `reddit_client_secret`, and `reddit_user_agent` set up based on the [https://praw.readthedocs.io/en/stable/getting_started/quick_start.html](https://praw.readthedocs.io/en/stable/getting_started/quick_start) documentation.\n",
    "\n",
    "Additionally, you will need to install the packages designated in the [requirements.txt](../requirements.txt) file.\n",
    "\n",
    "Once configured, you will be able to run all of the cells in this notebook."
   ]
  },
  {
   "cell_type": "code",
   "execution_count": 6,
   "metadata": {},
   "outputs": [
    {
     "ename": "ModuleNotFoundError",
     "evalue": "No module named 'praw'",
     "output_type": "error",
     "traceback": [
      "\u001b[0;31m---------------------------------------------------------------------------\u001b[0m",
      "\u001b[0;31mModuleNotFoundError\u001b[0m                       Traceback (most recent call last)",
      "Cell \u001b[0;32mIn[6], line 1\u001b[0m\n\u001b[0;32m----> 1\u001b[0m \u001b[38;5;28;01mimport\u001b[39;00m \u001b[38;5;21;01mpraw\u001b[39;00m \u001b[38;5;28;01mas\u001b[39;00m \u001b[38;5;21;01mpraw\u001b[39;00m\n\u001b[1;32m      2\u001b[0m \u001b[38;5;28;01mimport\u001b[39;00m \u001b[38;5;21;01mos\u001b[39;00m\n\u001b[1;32m      3\u001b[0m \u001b[38;5;28;01mfrom\u001b[39;00m \u001b[38;5;21;01mdotenv\u001b[39;00m \u001b[38;5;28;01mimport\u001b[39;00m load_dotenv\n",
      "\u001b[0;31mModuleNotFoundError\u001b[0m: No module named 'praw'"
     ]
    }
   ],
   "source": [
    "import praw as praw\n",
    "import os\n",
    "from dotenv import load_dotenv\n",
    "\n",
    "load_dotenv()"
   ]
  },
  {
   "cell_type": "code",
   "execution_count": null,
   "metadata": {},
   "outputs": [],
   "source": [
    "# authenticating with reddit and setting up an object for interacting with the API\n",
    "\n",
    "reddit = praw.Reddit(\n",
    "    client_id=os.environ[\"reddit_client_id\"],\n",
    "    client_secret=os.environ[\"reddit_client_secret\"],\n",
    "    user_agent=os.environ[\"reddit_user_agent\"],\n",
    ")"
   ]
  },
  {
   "cell_type": "code",
   "execution_count": null,
   "metadata": {},
   "outputs": [
    {
     "name": "stdout",
     "output_type": "stream",
     "text": [
      "True\n"
     ]
    }
   ],
   "source": [
    "# checking if the object is read only\n",
    "\n",
    "print(reddit.read_only)"
   ]
  },
  {
   "cell_type": "code",
   "execution_count": null,
   "metadata": {},
   "outputs": [
    {
     "name": "stdout",
     "output_type": "stream",
     "text": [
      "test\n",
      "mac\n",
      "test\n",
      "onions\n",
      "Less Is More, Too Much Is Not Enough: What the Irish DPC’s €390 Million Fine Against Meta Could Mean for Your Privacy Notice\n"
     ]
    }
   ],
   "source": [
    "# example for how to get the top 5 submissions in the subreddit \"test\"\n",
    "\n",
    "for submission in reddit.subreddit(\"test\").hot(limit=5):\n",
    "    print(submission.title)"
   ]
  },
  {
   "cell_type": "code",
   "execution_count": null,
   "metadata": {},
   "outputs": [
    {
     "name": "stdout",
     "output_type": "stream",
     "text": [
      "funny\n",
      "funny\n"
     ]
    }
   ],
   "source": [
    "subreddit_funny = reddit.subreddit(\"funny\")\n",
    "\n",
    "print(subreddit_funny.display_name)\n",
    "print(subreddit_funny.title)"
   ]
  },
  {
   "cell_type": "code",
   "execution_count": null,
   "metadata": {},
   "outputs": [],
   "source": [
    "# commented out since this is long\n",
    "# print(subreddit_funny.description)\n",
    "# output: description"
   ]
  },
  {
   "cell_type": "code",
   "execution_count": null,
   "metadata": {},
   "outputs": [
    {
     "name": "stdout",
     "output_type": "stream",
     "text": [
      "My cab driver tonight was so excited to share with me that he’d made the cover of the calendar. I told him I’d help let the world see\n",
      "308580\n",
      "7mjw12\n",
      "https://i.redd.it/tojcmbvjwk601.jpg\n",
      "Guardians of the Front Page\n",
      "283999\n",
      "5gn8ru\n",
      "http://i.imgur.com/OOFRJvr.gifv\n",
      "Gas station worker takes precautionary measures after customer refused to put out his cigarette\n",
      "263335\n",
      "7431qq\n",
      "https://gfycat.com/ResponsibleJadedAmericancurl\n"
     ]
    }
   ],
   "source": [
    "# example for getting information about a top posts for a subreddit\n",
    "for submission in subreddit_funny.top(limit=3):\n",
    "    print(submission.title)\n",
    "    # Output: the submission's title\n",
    "    print(submission.score)\n",
    "    # Output: the submission's score\n",
    "    print(submission.id)\n",
    "    # Output: the submission's ID\n",
    "    print(submission.url)"
   ]
  }
 ],
 "metadata": {
  "kernelspec": {
   "display_name": "Python 3.8.5 64-bit",
   "language": "python",
   "name": "python3"
  },
  "language_info": {
   "codemirror_mode": {
    "name": "ipython",
    "version": 3
   },
   "file_extension": ".py",
   "mimetype": "text/x-python",
   "name": "python",
   "nbconvert_exporter": "python",
   "pygments_lexer": "ipython3",
   "version": "3.8.5"
  },
  "orig_nbformat": 4,
  "vscode": {
   "interpreter": {
    "hash": "aee8b7b246df8f9039afb4144a1f6fd8d2ca17a180786b69acc140d282b71a49"
   }
  }
 },
 "nbformat": 4,
 "nbformat_minor": 2
}
