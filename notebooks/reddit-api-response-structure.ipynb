{
 "cells": [
  {
   "cell_type": "code",
   "execution_count": 3,
   "metadata": {},
   "outputs": [],
   "source": [
    "import praw\n",
    "import os\n",
    "from dotenv import load_dotenv\n",
    "\n",
    "load_dotenv()\n",
    "\n",
    "# authenticating with reddit and setting up an object for interacting with the API\n",
    "\n",
    "reddit = praw.Reddit(\n",
    "    client_id=os.environ[\"reddit_client_id\"],\n",
    "    client_secret=os.environ[\"reddit_client_secret\"],\n",
    "    user_agent=os.environ[\"reddit_user_agent\"],\n",
    ")"
   ]
  },
  {
   "cell_type": "code",
   "execution_count": 34,
   "metadata": {},
   "outputs": [],
   "source": [
    "def get_top_posts(subreddit_name, limit=10):\n",
    "\n",
    "    subreddit_top_10_posts_id = []\n",
    "\n",
    "    subreddit = reddit.subreddit(subreddit_name)\n",
    "\n",
    "    for submission in subreddit.top(limit=limit):\n",
    "        subreddit_top_10_posts_id.append(submission.id)\n",
    "    \n",
    "    return subreddit_top_10_posts_id"
   ]
  },
  {
   "cell_type": "code",
   "execution_count": 37,
   "metadata": {},
   "outputs": [],
   "source": [
    "def get_top_level_comments(subreddit_submission_list):\n",
    "    post_top_level_comments = {}\n",
    "\n",
    "    for submission_id in subreddit_submission_list:\n",
    "\n",
    "        post_comments = []\n",
    "        \n",
    "        submission = reddit.submission(submission_id)\n",
    "\n",
    "        submission.comments.replace_more(limit=0)\n",
    "        for top_level_comment in submission.comments:\n",
    "            post_comments.append(top_level_comment.body)\n",
    "\n",
    "        len(post_comments)\n",
    "\n",
    "        post_top_level_comments[submission_id] = post_comments\n",
    "\n",
    "    return post_top_level_comments"
   ]
  },
  {
   "cell_type": "code",
   "execution_count": 35,
   "metadata": {},
   "outputs": [],
   "source": [
    "top_post_list = get_top_posts(\"funny\")"
   ]
  },
  {
   "cell_type": "code",
   "execution_count": 38,
   "metadata": {},
   "outputs": [
    {
     "ename": "AttributeError",
     "evalue": "'dict' object has no attribute 'append'",
     "output_type": "error",
     "traceback": [
      "\u001b[0;31m---------------------------------------------------------------------------\u001b[0m",
      "\u001b[0;31mAttributeError\u001b[0m                            Traceback (most recent call last)",
      "Cell \u001b[0;32mIn[38], line 1\u001b[0m\n\u001b[0;32m----> 1\u001b[0m posts_and_comment \u001b[39m=\u001b[39m get_top_level_comments(top_post_list)\n",
      "Cell \u001b[0;32mIn[37], line 10\u001b[0m, in \u001b[0;36mget_top_level_comments\u001b[0;34m(subreddit_submission_list)\u001b[0m\n\u001b[1;32m      8\u001b[0m submission\u001b[39m.\u001b[39mcomments\u001b[39m.\u001b[39mreplace_more(limit\u001b[39m=\u001b[39m\u001b[39m0\u001b[39m)\n\u001b[1;32m      9\u001b[0m \u001b[39mfor\u001b[39;00m top_level_comment \u001b[39min\u001b[39;00m submission\u001b[39m.\u001b[39mcomments:\n\u001b[0;32m---> 10\u001b[0m     post_comments\u001b[39m.\u001b[39;49mappend(top_level_comment\u001b[39m.\u001b[39mbody)\n\u001b[1;32m     12\u001b[0m \u001b[39mlen\u001b[39m(post_comments)\n\u001b[1;32m     14\u001b[0m post_comments[submission_id] \u001b[39m=\u001b[39m post_comments\n",
      "\u001b[0;31mAttributeError\u001b[0m: 'dict' object has no attribute 'append'"
     ]
    }
   ],
   "source": [
    "posts_and_comment = get_top_level_comments(top_post_list)"
   ]
  },
  {
   "cell_type": "code",
   "execution_count": 9,
   "metadata": {},
   "outputs": [
    {
     "data": {
      "text/plain": [
       "['7mjw12',\n",
       " '5gn8ru',\n",
       " '7431qq',\n",
       " '7kvjuz',\n",
       " 'j0w79j',\n",
       " 'd2bwot',\n",
       " 'i0wgoo',\n",
       " 'ge4l65',\n",
       " 'ghujvl',\n",
       " 'q1a7iu']"
      ]
     },
     "execution_count": 9,
     "metadata": {},
     "output_type": "execute_result"
    }
   ],
   "source": [
    "subreddit_funny = reddit.subreddit(\"funny\")\n",
    "\n",
    "subreddit_top_10_posts_id = []\n",
    "\n",
    "\n",
    "\n",
    "subreddit_top_10_posts_id"
   ]
  },
  {
   "cell_type": "code",
   "execution_count": 16,
   "metadata": {},
   "outputs": [
    {
     "name": "stdout",
     "output_type": "stream",
     "text": [
      "My cab driver tonight was so excited to share with me that he’d made the cover of the calendar. I told him I’d help let the world see\n"
     ]
    }
   ],
   "source": [
    "submission = reddit.submission(subreddit_top_10_posts_id[0])\n",
    "print(submission.title)"
   ]
  },
  {
   "cell_type": "code",
   "execution_count": 17,
   "metadata": {},
   "outputs": [],
   "source": [
    "top_level_comments = list(submission.comments)\n",
    "all_comments = submission.comments.list()"
   ]
  },
  {
   "cell_type": "code",
   "execution_count": 29,
   "metadata": {},
   "outputs": [
    {
     "data": {
      "text/plain": [
       "869"
      ]
     },
     "execution_count": 29,
     "metadata": {},
     "output_type": "execute_result"
    }
   ],
   "source": [
    "post_comments = []\n",
    "\n",
    "submission.comments.replace_more(limit=0)\n",
    "for top_level_comment in submission.comments:\n",
    "    post_comments.append(top_level_comment.body)\n",
    "\n",
    "len(post_comments)"
   ]
  }
 ],
 "metadata": {
  "kernelspec": {
   "display_name": "hackmt-2023-Ixx92jts-py3.10",
   "language": "python",
   "name": "python3"
  },
  "language_info": {
   "codemirror_mode": {
    "name": "ipython",
    "version": 3
   },
   "file_extension": ".py",
   "mimetype": "text/x-python",
   "name": "python",
   "nbconvert_exporter": "python",
   "pygments_lexer": "ipython3",
   "version": "3.10.2"
  },
  "orig_nbformat": 4,
  "vscode": {
   "interpreter": {
    "hash": "18f3bec07162dbda8f6b7a88a87618d1de33f97370e48c013a6d2883142dc9bf"
   }
  }
 },
 "nbformat": 4,
 "nbformat_minor": 2
}
